{
 "cells": [
  {
   "cell_type": "markdown",
   "metadata": {},
   "source": [
    "# A2-Q3: Parametric Spline"
   ]
  },
  {
   "cell_type": "code",
   "execution_count": 1,
   "metadata": {},
   "outputs": [],
   "source": [
    "import numpy as np\n",
    "from scipy.interpolate import make_interp_spline\n",
    "import matplotlib.pyplot as plt"
   ]
  },
  {
   "cell_type": "markdown",
   "metadata": {},
   "source": [
    "## (a) Write your nickname and display it"
   ]
  },
  {
   "cell_type": "code",
   "execution_count": 2,
   "metadata": {},
   "outputs": [],
   "source": [
    "# See A2.pdf for detail"
   ]
  },
  {
   "cell_type": "markdown",
   "metadata": {},
   "source": [
    "## (b) Hardcode interpolation points"
   ]
  },
  {
   "cell_type": "code",
   "execution_count": 3,
   "metadata": {},
   "outputs": [],
   "source": [
    "# === YOUR CODE HERE ===\n",
    "x1 = [4.2, 3.3, 2.3, 3.8]\n",
    "y1 = [6.4, 5, 3.3, 2.5]\n",
    "\n",
    "x2 = [7, 5.4, 5, 7, 6]\n",
    "y2 = [3.1, 4, 4.8, 5, 4]\n",
    "\n",
    "x3 = [10, 9, 9, 10, 10.8, 10]\n",
    "y3 = [2.5, 3, 4, 4.6, 4, 2.5]"
   ]
  },
  {
   "cell_type": "markdown",
   "metadata": {},
   "source": [
    "## (c) `ParametricSpline`"
   ]
  },
  {
   "cell_type": "code",
   "execution_count": 4,
   "metadata": {},
   "outputs": [],
   "source": [
    "def MySpline(x, y):\n",
    "    '''\n",
    "     S = MySpline(x, y)\n",
    "\n",
    "     Input:\n",
    "       x and y are arrays (or lists) of corresponding x- and y-values,\n",
    "       specifying the points in the x-y plane.  The x-values\n",
    "       must be in increasing order.\n",
    "\n",
    "     Output:\n",
    "       S is a function that takes x or an array (or list) of x-values\n",
    "         It evaluates the cubic spline and returns the interpolated value.\n",
    "\n",
    "     Implementation:\n",
    "       \n",
    "       Hence...\n",
    "         a[0] = a_0          b[0] = b_1        c[0] = c_1\n",
    "         a[1] = a_1          b[1] = b_2        c[1] = c_2\n",
    "              :                   :                 :\n",
    "         a[n-2] = a_(n-2)    b[n-2] = b_(n-1)  c[n-2] = c_(n-1)\n",
    "         a[n-1] = a_(n-1)\n",
    "         \n",
    "       The polynomial piece is evaluated at xx using\n",
    "       \n",
    "         p_i(xx) = a[i]*(x[i+1]-xx)**3/(6*hi) + a[i+1]*(xx-x[i])**3/(6*hi) +\n",
    "                   b[i]*(x[i+1]-xx) + c[i]*(xx-x[i])\n",
    "\n",
    "       where hk = x[k+1] - x[k] for k = 0, ... , n-1\n",
    "    '''\n",
    "    n = len(x)\n",
    "    h = np.zeros(n-1)\n",
    "    b = np.zeros(n-1)\n",
    "    c = np.zeros(n-1)\n",
    "    a = np.zeros(n)\n",
    "    \n",
    "    M = np.zeros((n,n))\n",
    "    r = np.zeros(n)\n",
    "\n",
    "    \n",
    "    # === YOUR CODE HERE ===\n",
    "    \n",
    "    # Turn non-list-like input into list-like\n",
    "    if type(x) not in (list, np.ndarray,):\n",
    "        x = [x]\n",
    "            \n",
    "    if type(y) not in (list, np.ndarray,):\n",
    "        y = [y]\n",
    "    \n",
    "    # Using natural boundary, we let a_0 = a_{n-1} = 0\n",
    "    a[0] = 0\n",
    "    a[n - 1] = 0\n",
    "    \n",
    "    # get h-values\n",
    "    idx = 0\n",
    "    while idx < n - 1:\n",
    "        h[idx] = x[idx + 1] - x[idx]\n",
    "        idx += 1\n",
    "    \n",
    "    # Construct the matrix M and r\n",
    "    idx = 0\n",
    "    while idx < n:\n",
    "        if idx == 0 or idx == n - 1:\n",
    "            M[idx, idx] = 1\n",
    "            r[idx] = 0\n",
    "        else:\n",
    "            M[idx, idx - 1] = h[idx - 1] / 6\n",
    "            M[idx, idx] = (h[idx - 1] + h[idx]) / 3\n",
    "            M[idx, idx + 1] = h[idx] / 6\n",
    "            r[idx] = (y[idx + 1] - y[idx]) / h[idx] - (y[idx] - y[idx - 1]) / h[idx - 1]\n",
    "        idx += 1\n",
    "             \n",
    "            \n",
    "    # Solve the linear system to get a-values\n",
    "    Inv_M = np.linalg.inv(M)\n",
    "    a = np.dot(Inv_M, r)\n",
    "    \n",
    "    # based on a-values, calculate b and c's values\n",
    "    idx = 0\n",
    "    while idx < n - 1:\n",
    "        b[idx] = y[idx] / h[idx] - (a[idx] * h[idx]) / 6\n",
    "        c[idx] = y[idx + 1] / h[idx] - a[idx + 1] * (h[idx] / 6)\n",
    "        idx += 1\n",
    "\n",
    "    #======================================\n",
    "    #\n",
    "    # This is the function that gets returned.\n",
    "    # It evaluates the cubic spline at xvals.\n",
    "    #\n",
    "    \n",
    "    x.sort()\n",
    "    def spline(xvals, x=x, a=a, b=b, c=c):\n",
    "        '''\n",
    "         S = spline(xvals)\n",
    "         \n",
    "         Evaluates the cubic spline at xvals.\n",
    "         \n",
    "         Inputs:\n",
    "          xvals can be list-like, or a scalar (**must be in ascending order**)\n",
    "          \n",
    "         Output:\n",
    "          S is a list of values with the same number of elements as x\n",
    "        '''\n",
    "        # Turn non-list-like input into list-like\n",
    "        if type(xvals) not in (list, np.ndarray,):\n",
    "            xvals = [xvals]\n",
    "        \n",
    "        S = []  # The return list of values\n",
    "        \n",
    "        # \n",
    "        k = 0   # this is the current polynomial piece\n",
    "        hk = x[k+1] - x[k]\n",
    "\n",
    "        for xx in xvals:\n",
    "\n",
    "            # If the next x-value is not on the current piece...\n",
    "            if xx>x[k+1]:\n",
    "                # ... Go to next piece\n",
    "                k += 1\n",
    "                hk = x[k+1] - x[k]\n",
    "\n",
    "            S_of_x = a[k]*(x[k+1]-xx)**3/(6*hk) + a[k+1]*(xx-x[k])**3/(6*hk) + b[k]*(x[k+1]-xx) + c[k]*(xx-x[k])\n",
    "\n",
    "            S.append(S_of_x)\n",
    "        \n",
    "        return S\n",
    "    #======================================\n",
    "    \n",
    "    return spline"
   ]
  },
  {
   "cell_type": "code",
   "execution_count": 5,
   "metadata": {},
   "outputs": [],
   "source": [
    "def ParametricSpline(Sx,Sy):\n",
    "    '''\n",
    "     x_cs, y_cs, t = ParametricSpline(Sx,Sy)\n",
    "\n",
    "       Takes an array of x- and y-values, and returns a parametric\n",
    "       cubic spline in the form of two piecewise-cubic data structures\n",
    "       (one for the x-component and one for the y-component), as well as\n",
    "       the corresponding parameter values.\n",
    "       \n",
    "       The splines use natural boundary conditions.\n",
    "\n",
    "       Input:\n",
    "        Sx   array of x-values\n",
    "        Sy   array of y-values\n",
    "\n",
    "       Output:\n",
    "        x_cs function that evaluates the cubic spline for x-component\n",
    "        y_cs function that evaluates the cubic spline for y-component\n",
    "        t is the array of parameter values use for the splines\n",
    "\n",
    "       Note that x_cs(t) and y_cs(t) give Sx and Sy, respectively.\n",
    "    '''\n",
    "\n",
    "    # These lines are just placeholders... replace them\n",
    "    x_cs = lambda t:[0]\n",
    "    y_cs = lambda t:[0]\n",
    "    n = len(Sx)\n",
    "    t = np.zeros(n)\n",
    "    \n",
    "    # === YOUR CODE HERE ===\n",
    "    \n",
    "    # initializa t\n",
    "    t[0] = 0\n",
    "    idx = 1\n",
    "    while idx < n:\n",
    "        t[idx] = t[idx - 1] + np.sqrt((Sx[idx] - Sx[idx - 1]) ** 2 + (Sy[idx] - Sy[idx - 1]) ** 2)\n",
    "        idx += 1\n",
    "        \n",
    "        \n",
    "        \n",
    "        \n",
    "        \n",
    "    x_cs = MySpline(t, Sx)\n",
    "    \n",
    "    y_cs = MySpline(t, Sy)\n",
    "    \n",
    "    return x_cs, y_cs, t\n",
    "\n",
    "\n"
   ]
  },
  {
   "cell_type": "markdown",
   "metadata": {},
   "source": [
    "## (d) Find parametric splines for each segment"
   ]
  },
  {
   "cell_type": "code",
   "execution_count": 6,
   "metadata": {
    "scrolled": true
   },
   "outputs": [],
   "source": [
    "# === YOUR CODE HERE ===\n",
    "\n",
    "# Call the function\n",
    "SInfo1 = ParametricSpline(x1, y1)\n",
    "Sx1 = SInfo1[0]             # The x-parametric spline of the first segment\n",
    "Sy1 = SInfo1[1]             # The y-parametric spline of the first segment\n",
    "t1 = SInfo1[-1]             # The t range of the first segment\n",
    "\n",
    "SInfo2 = ParametricSpline(x2, y2)\n",
    "Sx2 = SInfo2[0]             # The x-parametric spline of the second segment\n",
    "Sy2 = SInfo2[1]             # The y-parametric spline of the second segment\n",
    "t2 = SInfo2[-1]             # The t range of the second segment\n",
    "\n",
    "SInfo3 = ParametricSpline(x3, y3)\n",
    "Sx3 = SInfo3[0]             # The x-parametric spline of the third segment\n",
    "Sy3 = SInfo3[1]             # The y-parametric spline of the third segment\n",
    "t3 = SInfo3[-1]             # The t range of the third segment\n",
    "\n",
    "\n"
   ]
  },
  {
   "cell_type": "markdown",
   "metadata": {},
   "source": [
    "## (e) Plot the segments"
   ]
  },
  {
   "cell_type": "code",
   "execution_count": 7,
   "metadata": {},
   "outputs": [
    {
     "data": {
      "image/png": "[encoded data removed]",
      "text/plain": [
       "<Figure size 432x288 with 1 Axes>"
      ]
     },
     "metadata": {
      "needs_background": "light"
     },
     "output_type": "display_data"
    }
   ],
   "source": [
    "# === YOUR CODE HERE ===\n",
    "\n",
    "# Plot the first segment\n",
    "tt1 = np.linspace(t1[0], t1[-1], 1000)\n",
    "plt.plot(Sx1(tt1), Sy1(tt1))\n",
    "plt.plot(x1,y1,'ro');\n",
    "\n",
    "# Plot the second segment\n",
    "tt2 = np.linspace(t2[0], t2[-1], 1000)\n",
    "plt.plot(Sx2(tt2), Sy2(tt2))\n",
    "plt.plot(x2,y2,'ro');\n",
    "\n",
    "# Plot the third segment\n",
    "tt3 = np.linspace(t3[0], t3[-1], 1000)\n",
    "plt.plot(Sx3(tt3), Sy3(tt3))\n",
    "plt.plot(x3,y3,'ro');"
   ]
  },
  {
   "cell_type": "code",
   "execution_count": null,
   "metadata": {},
   "outputs": [],
   "source": []
  }
 ],
 "metadata": {
  "kernelspec": {
   "display_name": "Python 3",
   "language": "python",
   "name": "python3"
  },
  "language_info": {
   "codemirror_mode": {
    "name": "ipython",
    "version": 3
   },
   "file_extension": ".py",
   "mimetype": "text/x-python",
   "name": "python",
   "nbconvert_exporter": "python",
   "pygments_lexer": "ipython3",
   "version": "3.6.9"
  }
 },
 "nbformat": 4,
 "nbformat_minor": 4
}
